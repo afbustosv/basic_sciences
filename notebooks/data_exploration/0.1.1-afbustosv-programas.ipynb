{
 "cells": [
  {
   "cell_type": "code",
   "execution_count": 1,
   "metadata": {},
   "outputs": [],
   "source": [
    "%load_ext autoreload\n",
    "%autoreload 2"
   ]
  },
  {
   "cell_type": "code",
   "execution_count": 4,
   "metadata": {},
   "outputs": [],
   "source": [
    "import ciencias_basicas.utils.paths as path\n",
    "import pandas as pd\n",
    "import matplotlib.pyplot as plt\n",
    "import seaborn as sns\n",
    "import numpy as np"
   ]
  },
  {
   "cell_type": "code",
   "execution_count": 5,
   "metadata": {},
   "outputs": [],
   "source": [
    "programas = path.data_raw_dir(\"MEN_PROGRAMAS_DE_EDUCACI_N_SUPERIOR.csv\")"
   ]
  },
  {
   "cell_type": "code",
   "execution_count": 99,
   "metadata": {},
   "outputs": [
    {
     "name": "stderr",
     "output_type": "stream",
     "text": [
      "C:\\Users\\Deathtrol\\AppData\\Local\\Temp\\ipykernel_5004\\2898142245.py:1: DtypeWarning: Columns (19) have mixed types. Specify dtype option on import or set low_memory=False.\n",
      "  programas_df = pd.read_csv(programas)\n"
     ]
    },
    {
     "data": {
      "text/html": [
       "<div>\n",
       "<style scoped>\n",
       "    .dataframe tbody tr th:only-of-type {\n",
       "        vertical-align: middle;\n",
       "    }\n",
       "\n",
       "    .dataframe tbody tr th {\n",
       "        vertical-align: top;\n",
       "    }\n",
       "\n",
       "    .dataframe thead th {\n",
       "        text-align: right;\n",
       "    }\n",
       "</style>\n",
       "<table border=\"1\" class=\"dataframe\">\n",
       "  <thead>\n",
       "    <tr style=\"text-align: right;\">\n",
       "      <th></th>\n",
       "      <th>codigoinstitucion</th>\n",
       "      <th>nombreinstitucion</th>\n",
       "      <th>codigodepartinstitucion</th>\n",
       "      <th>nombredepartinstitucion</th>\n",
       "      <th>codigomunicipioinstitucion</th>\n",
       "      <th>nombremunicipioinstitucion</th>\n",
       "      <th>codigoorigeninstitucional</th>\n",
       "      <th>nombreorigeninstitucional</th>\n",
       "      <th>codigocaracteracademico</th>\n",
       "      <th>nombrecaracteracademico</th>\n",
       "      <th>...</th>\n",
       "      <th>nombrenivelacademico</th>\n",
       "      <th>codigoperiodicidad</th>\n",
       "      <th>nombreperiodicidad</th>\n",
       "      <th>cantidadperiodos</th>\n",
       "      <th>numeroresolucionacreditacion</th>\n",
       "      <th>codigotipoacreditacion</th>\n",
       "      <th>nombretipoacreditacion</th>\n",
       "      <th>aniosacreditados</th>\n",
       "      <th>nombretituloobtenido</th>\n",
       "      <th>fechacreacion</th>\n",
       "    </tr>\n",
       "  </thead>\n",
       "  <tbody>\n",
       "    <tr>\n",
       "      <th>0</th>\n",
       "      <td>1101</td>\n",
       "      <td>UNIVERSIDAD NACIONAL DE COLOMBIA</td>\n",
       "      <td>11</td>\n",
       "      <td>Bogotá D.C.</td>\n",
       "      <td>11001</td>\n",
       "      <td>Bogotá D.C.</td>\n",
       "      <td>1</td>\n",
       "      <td>Oficial</td>\n",
       "      <td>4</td>\n",
       "      <td>Universidad</td>\n",
       "      <td>...</td>\n",
       "      <td>Pregrado</td>\n",
       "      <td>2.0</td>\n",
       "      <td>Semestral</td>\n",
       "      <td>10.0</td>\n",
       "      <td>19584.0</td>\n",
       "      <td>3.0</td>\n",
       "      <td>Acreditación de alta calidad</td>\n",
       "      <td>6.0</td>\n",
       "      <td>ADMINISTRADOR(A) DE EMPRESAS</td>\n",
       "      <td>27/09/2017</td>\n",
       "    </tr>\n",
       "    <tr>\n",
       "      <th>1</th>\n",
       "      <td>1101</td>\n",
       "      <td>UNIVERSIDAD NACIONAL DE COLOMBIA</td>\n",
       "      <td>11</td>\n",
       "      <td>Bogotá D.C.</td>\n",
       "      <td>11001</td>\n",
       "      <td>Bogotá D.C.</td>\n",
       "      <td>1</td>\n",
       "      <td>Oficial</td>\n",
       "      <td>4</td>\n",
       "      <td>Universidad</td>\n",
       "      <td>...</td>\n",
       "      <td>Pregrado</td>\n",
       "      <td>2.0</td>\n",
       "      <td>Semestral</td>\n",
       "      <td>9.0</td>\n",
       "      <td>19587.0</td>\n",
       "      <td>3.0</td>\n",
       "      <td>Acreditación de alta calidad</td>\n",
       "      <td>8.0</td>\n",
       "      <td>ANTROPOLOGO(A)</td>\n",
       "      <td>27/09/2017</td>\n",
       "    </tr>\n",
       "    <tr>\n",
       "      <th>2</th>\n",
       "      <td>1101</td>\n",
       "      <td>UNIVERSIDAD NACIONAL DE COLOMBIA</td>\n",
       "      <td>11</td>\n",
       "      <td>Bogotá D.C.</td>\n",
       "      <td>11001</td>\n",
       "      <td>Bogotá D.C.</td>\n",
       "      <td>1</td>\n",
       "      <td>Oficial</td>\n",
       "      <td>4</td>\n",
       "      <td>Universidad</td>\n",
       "      <td>...</td>\n",
       "      <td>Pregrado</td>\n",
       "      <td>2.0</td>\n",
       "      <td>Semestral</td>\n",
       "      <td>10.0</td>\n",
       "      <td>11945.0</td>\n",
       "      <td>3.0</td>\n",
       "      <td>Acreditación de alta calidad</td>\n",
       "      <td>6.0</td>\n",
       "      <td>ARQUITECTO(A)</td>\n",
       "      <td>16/06/2016</td>\n",
       "    </tr>\n",
       "    <tr>\n",
       "      <th>3</th>\n",
       "      <td>1101</td>\n",
       "      <td>UNIVERSIDAD NACIONAL DE COLOMBIA</td>\n",
       "      <td>11</td>\n",
       "      <td>Bogotá D.C.</td>\n",
       "      <td>11001</td>\n",
       "      <td>Bogotá D.C.</td>\n",
       "      <td>1</td>\n",
       "      <td>Oficial</td>\n",
       "      <td>4</td>\n",
       "      <td>Universidad</td>\n",
       "      <td>...</td>\n",
       "      <td>Pregrado</td>\n",
       "      <td>2.0</td>\n",
       "      <td>Semestral</td>\n",
       "      <td>10.0</td>\n",
       "      <td>12325.0</td>\n",
       "      <td>3.0</td>\n",
       "      <td>Acreditación de alta calidad</td>\n",
       "      <td>6.0</td>\n",
       "      <td>MAESTRO EN ARTES PLASTICAS</td>\n",
       "      <td>28/09/2012</td>\n",
       "    </tr>\n",
       "    <tr>\n",
       "      <th>4</th>\n",
       "      <td>1101</td>\n",
       "      <td>UNIVERSIDAD NACIONAL DE COLOMBIA</td>\n",
       "      <td>11</td>\n",
       "      <td>Bogotá D.C.</td>\n",
       "      <td>11001</td>\n",
       "      <td>Bogotá D.C.</td>\n",
       "      <td>1</td>\n",
       "      <td>Oficial</td>\n",
       "      <td>4</td>\n",
       "      <td>Universidad</td>\n",
       "      <td>...</td>\n",
       "      <td>Pregrado</td>\n",
       "      <td>2.0</td>\n",
       "      <td>Semestral</td>\n",
       "      <td>10.0</td>\n",
       "      <td>16035.0</td>\n",
       "      <td>3.0</td>\n",
       "      <td>Acreditación de alta calidad</td>\n",
       "      <td>85.0</td>\n",
       "      <td>BIOLOGO(A)</td>\n",
       "      <td>10/12/2012</td>\n",
       "    </tr>\n",
       "  </tbody>\n",
       "</table>\n",
       "<p>5 rows × 39 columns</p>\n",
       "</div>"
      ],
      "text/plain": [
       "   codigoinstitucion                 nombreinstitucion  \\\n",
       "0               1101  UNIVERSIDAD NACIONAL DE COLOMBIA   \n",
       "1               1101  UNIVERSIDAD NACIONAL DE COLOMBIA   \n",
       "2               1101  UNIVERSIDAD NACIONAL DE COLOMBIA   \n",
       "3               1101  UNIVERSIDAD NACIONAL DE COLOMBIA   \n",
       "4               1101  UNIVERSIDAD NACIONAL DE COLOMBIA   \n",
       "\n",
       "   codigodepartinstitucion nombredepartinstitucion  \\\n",
       "0                       11             Bogotá D.C.   \n",
       "1                       11             Bogotá D.C.   \n",
       "2                       11             Bogotá D.C.   \n",
       "3                       11             Bogotá D.C.   \n",
       "4                       11             Bogotá D.C.   \n",
       "\n",
       "   codigomunicipioinstitucion nombremunicipioinstitucion  \\\n",
       "0                       11001                Bogotá D.C.   \n",
       "1                       11001                Bogotá D.C.   \n",
       "2                       11001                Bogotá D.C.   \n",
       "3                       11001                Bogotá D.C.   \n",
       "4                       11001                Bogotá D.C.   \n",
       "\n",
       "   codigoorigeninstitucional nombreorigeninstitucional  \\\n",
       "0                          1                   Oficial   \n",
       "1                          1                   Oficial   \n",
       "2                          1                   Oficial   \n",
       "3                          1                   Oficial   \n",
       "4                          1                   Oficial   \n",
       "\n",
       "   codigocaracteracademico nombrecaracteracademico  ... nombrenivelacademico  \\\n",
       "0                        4             Universidad  ...             Pregrado   \n",
       "1                        4             Universidad  ...             Pregrado   \n",
       "2                        4             Universidad  ...             Pregrado   \n",
       "3                        4             Universidad  ...             Pregrado   \n",
       "4                        4             Universidad  ...             Pregrado   \n",
       "\n",
       "  codigoperiodicidad nombreperiodicidad cantidadperiodos  \\\n",
       "0                2.0          Semestral             10.0   \n",
       "1                2.0          Semestral              9.0   \n",
       "2                2.0          Semestral             10.0   \n",
       "3                2.0          Semestral             10.0   \n",
       "4                2.0          Semestral             10.0   \n",
       "\n",
       "  numeroresolucionacreditacion codigotipoacreditacion  \\\n",
       "0                      19584.0                    3.0   \n",
       "1                      19587.0                    3.0   \n",
       "2                      11945.0                    3.0   \n",
       "3                      12325.0                    3.0   \n",
       "4                      16035.0                    3.0   \n",
       "\n",
       "         nombretipoacreditacion aniosacreditados  \\\n",
       "0  Acreditación de alta calidad              6.0   \n",
       "1  Acreditación de alta calidad              8.0   \n",
       "2  Acreditación de alta calidad              6.0   \n",
       "3  Acreditación de alta calidad              6.0   \n",
       "4  Acreditación de alta calidad             85.0   \n",
       "\n",
       "           nombretituloobtenido fechacreacion  \n",
       "0  ADMINISTRADOR(A) DE EMPRESAS    27/09/2017  \n",
       "1                ANTROPOLOGO(A)    27/09/2017  \n",
       "2                 ARQUITECTO(A)    16/06/2016  \n",
       "3    MAESTRO EN ARTES PLASTICAS    28/09/2012  \n",
       "4                    BIOLOGO(A)    10/12/2012  \n",
       "\n",
       "[5 rows x 39 columns]"
      ]
     },
     "execution_count": 99,
     "metadata": {},
     "output_type": "execute_result"
    }
   ],
   "source": [
    "programas_df = pd.read_csv(programas)\n",
    "programas_df.head()"
   ]
  },
  {
   "cell_type": "code",
   "execution_count": 100,
   "metadata": {},
   "outputs": [
    {
     "data": {
      "text/plain": [
       "Index(['codigoinstitucion', 'nombreinstitucion', 'codigodepartinstitucion',\n",
       "       'nombredepartinstitucion', 'codigomunicipioinstitucion',\n",
       "       'nombremunicipioinstitucion', 'codigoorigeninstitucional',\n",
       "       'nombreorigeninstitucional', 'codigocaracteracademico',\n",
       "       'nombrecaracteracademico', 'codigoprograma', 'nombreprograma',\n",
       "       'codigodepartprograma', 'nombredepartprograma',\n",
       "       'codigomunicipioprograma', 'nombremunicipioprograma',\n",
       "       'codigoestadoprograma', 'nombreestadoprograma', 'cantidadcreditos',\n",
       "       'fechaacreditacion', 'codigoareaconocimiento', 'nombreareaconocimiento',\n",
       "       'codigometodologia', 'nombremetodologia', 'codigonbc', 'nombrenbc',\n",
       "       'codigonivelformacion', 'nombrenivelformacion', 'codigonivelacademico',\n",
       "       'nombrenivelacademico', 'codigoperiodicidad', 'nombreperiodicidad',\n",
       "       'cantidadperiodos', 'numeroresolucionacreditacion',\n",
       "       'codigotipoacreditacion', 'nombretipoacreditacion', 'aniosacreditados',\n",
       "       'nombretituloobtenido', 'fechacreacion'],\n",
       "      dtype='object')"
      ]
     },
     "execution_count": 100,
     "metadata": {},
     "output_type": "execute_result"
    }
   ],
   "source": [
    "programas_df.columns"
   ]
  },
  {
   "cell_type": "code",
   "execution_count": 101,
   "metadata": {},
   "outputs": [
    {
     "data": {
      "text/html": [
       "<div>\n",
       "<style scoped>\n",
       "    .dataframe tbody tr th:only-of-type {\n",
       "        vertical-align: middle;\n",
       "    }\n",
       "\n",
       "    .dataframe tbody tr th {\n",
       "        vertical-align: top;\n",
       "    }\n",
       "\n",
       "    .dataframe thead th {\n",
       "        text-align: right;\n",
       "    }\n",
       "</style>\n",
       "<table border=\"1\" class=\"dataframe\">\n",
       "  <thead>\n",
       "    <tr style=\"text-align: right;\">\n",
       "      <th></th>\n",
       "      <th>codigoinstitucion</th>\n",
       "      <th>nombreinstitucion</th>\n",
       "      <th>codigodepartinstitucion</th>\n",
       "      <th>nombredepartinstitucion</th>\n",
       "      <th>codigomunicipioinstitucion</th>\n",
       "      <th>nombremunicipioinstitucion</th>\n",
       "      <th>codigoorigeninstitucional</th>\n",
       "      <th>nombreorigeninstitucional</th>\n",
       "      <th>codigocaracteracademico</th>\n",
       "      <th>nombrecaracteracademico</th>\n",
       "      <th>...</th>\n",
       "      <th>nombrenivelacademico</th>\n",
       "      <th>codigoperiodicidad</th>\n",
       "      <th>nombreperiodicidad</th>\n",
       "      <th>cantidadperiodos</th>\n",
       "      <th>numeroresolucionacreditacion</th>\n",
       "      <th>codigotipoacreditacion</th>\n",
       "      <th>nombretipoacreditacion</th>\n",
       "      <th>aniosacreditados</th>\n",
       "      <th>nombretituloobtenido</th>\n",
       "      <th>fechacreacion</th>\n",
       "    </tr>\n",
       "  </thead>\n",
       "  <tbody>\n",
       "  </tbody>\n",
       "</table>\n",
       "<p>0 rows × 39 columns</p>\n",
       "</div>"
      ],
      "text/plain": [
       "Empty DataFrame\n",
       "Columns: [codigoinstitucion, nombreinstitucion, codigodepartinstitucion, nombredepartinstitucion, codigomunicipioinstitucion, nombremunicipioinstitucion, codigoorigeninstitucional, nombreorigeninstitucional, codigocaracteracademico, nombrecaracteracademico, codigoprograma, nombreprograma, codigodepartprograma, nombredepartprograma, codigomunicipioprograma, nombremunicipioprograma, codigoestadoprograma, nombreestadoprograma, cantidadcreditos, fechaacreditacion, codigoareaconocimiento, nombreareaconocimiento, codigometodologia, nombremetodologia, codigonbc, nombrenbc, codigonivelformacion, nombrenivelformacion, codigonivelacademico, nombrenivelacademico, codigoperiodicidad, nombreperiodicidad, cantidadperiodos, numeroresolucionacreditacion, codigotipoacreditacion, nombretipoacreditacion, aniosacreditados, nombretituloobtenido, fechacreacion]\n",
       "Index: []\n",
       "\n",
       "[0 rows x 39 columns]"
      ]
     },
     "execution_count": 101,
     "metadata": {},
     "output_type": "execute_result"
    }
   ],
   "source": [
    "programas_df[programas_df[\"codigonbc\"] == 33]"
   ]
  },
  {
   "cell_type": "code",
   "execution_count": 23,
   "metadata": {},
   "outputs": [
    {
     "data": {
      "text/plain": [
       "Index(['nombreinstitucion', 'nombredepartinstitucion',\n",
       "       'nombremunicipioinstitucion', 'nombreorigeninstitucional',\n",
       "       'nombrecaracteracademico', 'nombreprograma', 'nombredepartprograma',\n",
       "       'nombremunicipioprograma', 'nombreestadoprograma', 'cantidadcreditos',\n",
       "       'fechaacreditacion', 'nombreareaconocimiento', 'nombremetodologia',\n",
       "       'nombrenbc', 'nombrenivelformacion', 'nombrenivelacademico',\n",
       "       'nombreperiodicidad', 'cantidadperiodos',\n",
       "       'numeroresolucionacreditacion', 'nombretipoacreditacion',\n",
       "       'aniosacreditados', 'nombretituloobtenido', 'fechacreacion'],\n",
       "      dtype='object')"
      ]
     },
     "execution_count": 23,
     "metadata": {},
     "output_type": "execute_result"
    }
   ],
   "source": [
    "for column in programas_df.columns:\n",
    "    if \"codigo\" in column:\n",
    "        programas_df_nombres = programas_df.drop(column, axis = 1)\n",
    "programas_df.columns"
   ]
  },
  {
   "cell_type": "code",
   "execution_count": 50,
   "metadata": {},
   "outputs": [],
   "source": [
    "programas_df.columns = ['institucion', 'departamento institucion',\n",
    "       'municipio institucion', 'origen',\n",
    "       'caracter academico', 'programa', 'departamento programa',\n",
    "       'municipio programa', 'estado programa', 'cantidad creditos',\n",
    "       'fecha acreditacion', 'area conocimiento', 'metodologia',\n",
    "       'nbc', 'nivel formacion', 'nivel academico',\n",
    "       'periodicidad', 'cantidad periodos',\n",
    "       'resolucion acreditacion', 'tipo acreditacion',\n",
    "       'años acreditados', 'titulo obtenido', 'fecha creacion']"
   ]
  },
  {
   "cell_type": "code",
   "execution_count": 66,
   "metadata": {},
   "outputs": [
    {
     "data": {
      "text/html": [
       "<div>\n",
       "<style scoped>\n",
       "    .dataframe tbody tr th:only-of-type {\n",
       "        vertical-align: middle;\n",
       "    }\n",
       "\n",
       "    .dataframe tbody tr th {\n",
       "        vertical-align: top;\n",
       "    }\n",
       "\n",
       "    .dataframe thead th {\n",
       "        text-align: right;\n",
       "    }\n",
       "</style>\n",
       "<table border=\"1\" class=\"dataframe\">\n",
       "  <thead>\n",
       "    <tr style=\"text-align: right;\">\n",
       "      <th></th>\n",
       "      <th>institucion</th>\n",
       "      <th>departamento institucion</th>\n",
       "      <th>municipio institucion</th>\n",
       "      <th>origen</th>\n",
       "      <th>caracter academico</th>\n",
       "      <th>programa</th>\n",
       "      <th>departamento programa</th>\n",
       "      <th>municipio programa</th>\n",
       "      <th>estado programa</th>\n",
       "      <th>cantidad creditos</th>\n",
       "      <th>...</th>\n",
       "      <th>nbc</th>\n",
       "      <th>nivel formacion</th>\n",
       "      <th>nivel academico</th>\n",
       "      <th>periodicidad</th>\n",
       "      <th>cantidad periodos</th>\n",
       "      <th>resolucion acreditacion</th>\n",
       "      <th>tipo acreditacion</th>\n",
       "      <th>años acreditados</th>\n",
       "      <th>titulo obtenido</th>\n",
       "      <th>fecha creacion</th>\n",
       "    </tr>\n",
       "  </thead>\n",
       "  <tbody>\n",
       "    <tr>\n",
       "      <th>0</th>\n",
       "      <td>UNIVERSIDAD NACIONAL DE COLOMBIA</td>\n",
       "      <td>Bogotá D.C.</td>\n",
       "      <td>Bogotá D.C.</td>\n",
       "      <td>Oficial</td>\n",
       "      <td>Universidad</td>\n",
       "      <td>Bogotá D.C.</td>\n",
       "      <td>Bogotá D.C.</td>\n",
       "      <td>Bogotá D.C.</td>\n",
       "      <td>Activo</td>\n",
       "      <td>164.0</td>\n",
       "      <td>...</td>\n",
       "      <td>Administración</td>\n",
       "      <td>Universitaria</td>\n",
       "      <td>Pregrado</td>\n",
       "      <td>Semestral</td>\n",
       "      <td>10.0</td>\n",
       "      <td>19584.0</td>\n",
       "      <td>Acreditación de alta calidad</td>\n",
       "      <td>6.0</td>\n",
       "      <td>ADMINISTRADOR(A) DE EMPRESAS</td>\n",
       "      <td>27/09/2017</td>\n",
       "    </tr>\n",
       "    <tr>\n",
       "      <th>1</th>\n",
       "      <td>UNIVERSIDAD NACIONAL DE COLOMBIA</td>\n",
       "      <td>Bogotá D.C.</td>\n",
       "      <td>Bogotá D.C.</td>\n",
       "      <td>Oficial</td>\n",
       "      <td>Universidad</td>\n",
       "      <td>Bogotá D.C.</td>\n",
       "      <td>Bogotá D.C.</td>\n",
       "      <td>Bogotá D.C.</td>\n",
       "      <td>Activo</td>\n",
       "      <td>122.0</td>\n",
       "      <td>...</td>\n",
       "      <td>Antropología y  artes liberales</td>\n",
       "      <td>Universitaria</td>\n",
       "      <td>Pregrado</td>\n",
       "      <td>Semestral</td>\n",
       "      <td>9.0</td>\n",
       "      <td>19587.0</td>\n",
       "      <td>Acreditación de alta calidad</td>\n",
       "      <td>8.0</td>\n",
       "      <td>ANTROPOLOGO(A)</td>\n",
       "      <td>27/09/2017</td>\n",
       "    </tr>\n",
       "    <tr>\n",
       "      <th>2</th>\n",
       "      <td>UNIVERSIDAD NACIONAL DE COLOMBIA</td>\n",
       "      <td>Bogotá D.C.</td>\n",
       "      <td>Bogotá D.C.</td>\n",
       "      <td>Oficial</td>\n",
       "      <td>Universidad</td>\n",
       "      <td>Bogotá D.C.</td>\n",
       "      <td>Bogotá D.C.</td>\n",
       "      <td>Bogotá D.C.</td>\n",
       "      <td>Activo</td>\n",
       "      <td>179.0</td>\n",
       "      <td>...</td>\n",
       "      <td>Arquitectura</td>\n",
       "      <td>Universitaria</td>\n",
       "      <td>Pregrado</td>\n",
       "      <td>Semestral</td>\n",
       "      <td>10.0</td>\n",
       "      <td>11945.0</td>\n",
       "      <td>Acreditación de alta calidad</td>\n",
       "      <td>6.0</td>\n",
       "      <td>ARQUITECTO(A)</td>\n",
       "      <td>16/06/2016</td>\n",
       "    </tr>\n",
       "    <tr>\n",
       "      <th>3</th>\n",
       "      <td>UNIVERSIDAD NACIONAL DE COLOMBIA</td>\n",
       "      <td>Bogotá D.C.</td>\n",
       "      <td>Bogotá D.C.</td>\n",
       "      <td>Oficial</td>\n",
       "      <td>Universidad</td>\n",
       "      <td>Bogotá D.C.</td>\n",
       "      <td>Bogotá D.C.</td>\n",
       "      <td>Bogotá D.C.</td>\n",
       "      <td>Activo</td>\n",
       "      <td>166.0</td>\n",
       "      <td>...</td>\n",
       "      <td>Artes plásticas visuales y afines</td>\n",
       "      <td>Universitaria</td>\n",
       "      <td>Pregrado</td>\n",
       "      <td>Semestral</td>\n",
       "      <td>10.0</td>\n",
       "      <td>12325.0</td>\n",
       "      <td>Acreditación de alta calidad</td>\n",
       "      <td>6.0</td>\n",
       "      <td>MAESTRO EN ARTES PLASTICAS</td>\n",
       "      <td>28/09/2012</td>\n",
       "    </tr>\n",
       "    <tr>\n",
       "      <th>4</th>\n",
       "      <td>UNIVERSIDAD NACIONAL DE COLOMBIA</td>\n",
       "      <td>Bogotá D.C.</td>\n",
       "      <td>Bogotá D.C.</td>\n",
       "      <td>Oficial</td>\n",
       "      <td>Universidad</td>\n",
       "      <td>Bogotá D.C.</td>\n",
       "      <td>Bogotá D.C.</td>\n",
       "      <td>Bogotá D.C.</td>\n",
       "      <td>Activo</td>\n",
       "      <td>163.0</td>\n",
       "      <td>...</td>\n",
       "      <td>Biología microbiología y afines</td>\n",
       "      <td>Universitaria</td>\n",
       "      <td>Pregrado</td>\n",
       "      <td>Semestral</td>\n",
       "      <td>10.0</td>\n",
       "      <td>16035.0</td>\n",
       "      <td>Acreditación de alta calidad</td>\n",
       "      <td>85.0</td>\n",
       "      <td>BIOLOGO(A)</td>\n",
       "      <td>10/12/2012</td>\n",
       "    </tr>\n",
       "  </tbody>\n",
       "</table>\n",
       "<p>5 rows × 23 columns</p>\n",
       "</div>"
      ],
      "text/plain": [
       "                        institucion departamento institucion  \\\n",
       "0  UNIVERSIDAD NACIONAL DE COLOMBIA              Bogotá D.C.   \n",
       "1  UNIVERSIDAD NACIONAL DE COLOMBIA              Bogotá D.C.   \n",
       "2  UNIVERSIDAD NACIONAL DE COLOMBIA              Bogotá D.C.   \n",
       "3  UNIVERSIDAD NACIONAL DE COLOMBIA              Bogotá D.C.   \n",
       "4  UNIVERSIDAD NACIONAL DE COLOMBIA              Bogotá D.C.   \n",
       "\n",
       "  municipio institucion   origen caracter academico     programa  \\\n",
       "0           Bogotá D.C.  Oficial        Universidad  Bogotá D.C.   \n",
       "1           Bogotá D.C.  Oficial        Universidad  Bogotá D.C.   \n",
       "2           Bogotá D.C.  Oficial        Universidad  Bogotá D.C.   \n",
       "3           Bogotá D.C.  Oficial        Universidad  Bogotá D.C.   \n",
       "4           Bogotá D.C.  Oficial        Universidad  Bogotá D.C.   \n",
       "\n",
       "  departamento programa municipio programa estado programa  cantidad creditos  \\\n",
       "0           Bogotá D.C.        Bogotá D.C.          Activo              164.0   \n",
       "1           Bogotá D.C.        Bogotá D.C.          Activo              122.0   \n",
       "2           Bogotá D.C.        Bogotá D.C.          Activo              179.0   \n",
       "3           Bogotá D.C.        Bogotá D.C.          Activo              166.0   \n",
       "4           Bogotá D.C.        Bogotá D.C.          Activo              163.0   \n",
       "\n",
       "   ...                                nbc nivel formacion nivel academico  \\\n",
       "0  ...                     Administración   Universitaria        Pregrado   \n",
       "1  ...    Antropología y  artes liberales   Universitaria        Pregrado   \n",
       "2  ...                       Arquitectura   Universitaria        Pregrado   \n",
       "3  ...  Artes plásticas visuales y afines   Universitaria        Pregrado   \n",
       "4  ...    Biología microbiología y afines   Universitaria        Pregrado   \n",
       "\n",
       "  periodicidad cantidad periodos resolucion acreditacion  \\\n",
       "0    Semestral              10.0                 19584.0   \n",
       "1    Semestral               9.0                 19587.0   \n",
       "2    Semestral              10.0                 11945.0   \n",
       "3    Semestral              10.0                 12325.0   \n",
       "4    Semestral              10.0                 16035.0   \n",
       "\n",
       "              tipo acreditacion  años acreditados  \\\n",
       "0  Acreditación de alta calidad               6.0   \n",
       "1  Acreditación de alta calidad               8.0   \n",
       "2  Acreditación de alta calidad               6.0   \n",
       "3  Acreditación de alta calidad               6.0   \n",
       "4  Acreditación de alta calidad              85.0   \n",
       "\n",
       "                titulo obtenido fecha creacion  \n",
       "0  ADMINISTRADOR(A) DE EMPRESAS     27/09/2017  \n",
       "1                ANTROPOLOGO(A)     27/09/2017  \n",
       "2                 ARQUITECTO(A)     16/06/2016  \n",
       "3    MAESTRO EN ARTES PLASTICAS     28/09/2012  \n",
       "4                    BIOLOGO(A)     10/12/2012  \n",
       "\n",
       "[5 rows x 23 columns]"
      ]
     },
     "execution_count": 66,
     "metadata": {},
     "output_type": "execute_result"
    }
   ],
   "source": [
    "programas_df.head()"
   ]
  },
  {
   "cell_type": "code",
   "execution_count": 63,
   "metadata": {},
   "outputs": [
    {
     "data": {
      "text/plain": [
       "15045"
      ]
     },
     "execution_count": 63,
     "metadata": {},
     "output_type": "execute_result"
    }
   ],
   "source": [
    "pregrados_df = programas_df[programas_df['nivel academico'] == \"Pregrado\"]\n",
    "pregrados_df.shape[0]"
   ]
  },
  {
   "cell_type": "code",
   "execution_count": 77,
   "metadata": {},
   "outputs": [
    {
     "data": {
      "text/plain": [
       "301"
      ]
     },
     "execution_count": 77,
     "metadata": {},
     "output_type": "execute_result"
    }
   ],
   "source": [
    "ciencias_df = pregrados_df[pregrados_df[\"area conocimiento\"] == \"Matemáticas y ciencias naturales\" ]\n",
    "ciencias_df.shape[0]"
   ]
  },
  {
   "cell_type": "code",
   "execution_count": 65,
   "metadata": {},
   "outputs": [
    {
     "data": {
      "text/plain": [
       "array(['Biología microbiología y afines',\n",
       "       'Matemáticas estadística y afines', 'Química y afines', 'Física',\n",
       "       'Geología otros programas de ciencias naturales'], dtype=object)"
      ]
     },
     "execution_count": 65,
     "metadata": {},
     "output_type": "execute_result"
    }
   ],
   "source": [
    "ciencias_df[\"nbc\"].unique()"
   ]
  },
  {
   "cell_type": "code",
   "execution_count": 97,
   "metadata": {},
   "outputs": [],
   "source": [
    "fisica_df = ciencias_df[ciencias_df[\"nbc\"]== \"Física\"]\n",
    "fisica_df = fisica_df.drop([\"departamento institucion\", \"municipio institucion\", \"programa\", \"cantidad creditos\", \"periodicidad\", \"cantidad periodos\", \"area conocimiento\", \"metodologia\" ], axis=1)\n",
    "fisica_df.to_csv(path.data_processed_dir(\"programas_de_física.csv\"))"
   ]
  },
  {
   "cell_type": "code",
   "execution_count": 94,
   "metadata": {},
   "outputs": [
    {
     "data": {
      "text/plain": [
       "124"
      ]
     },
     "execution_count": 94,
     "metadata": {},
     "output_type": "execute_result"
    }
   ],
   "source": [
    "biologia_df  = ciencias_df[ciencias_df[\"nbc\"]== \"Biología microbiología y afines\"]\n",
    "biologia_df = biologia_df.drop([\"departamento institucion\", \"municipio institucion\", \"programa\", \"cantidad creditos\", \"periodicidad\", \"cantidad periodos\", \"area conocimiento\", \"metodologia\" ], axis=1)\n",
    "biologia_df.shape[0]"
   ]
  },
  {
   "cell_type": "code",
   "execution_count": 95,
   "metadata": {},
   "outputs": [
    {
     "data": {
      "text/plain": [
       "69"
      ]
     },
     "execution_count": 95,
     "metadata": {},
     "output_type": "execute_result"
    }
   ],
   "source": [
    "matematicas_df = ciencias_df[ciencias_df[\"nbc\"]== \"Matemáticas estadística y afines\"]\n",
    "matematicas_df = matematicas_df.drop([\"departamento institucion\", \"municipio institucion\", \"programa\", \"cantidad creditos\", \"periodicidad\", \"cantidad periodos\", \"area conocimiento\", \"metodologia\" ], axis=1)\n",
    "matematicas_df.shape[0]"
   ]
  },
  {
   "cell_type": "code",
   "execution_count": 96,
   "metadata": {},
   "outputs": [
    {
     "data": {
      "text/plain": [
       "67"
      ]
     },
     "execution_count": 96,
     "metadata": {},
     "output_type": "execute_result"
    }
   ],
   "source": [
    "quimica_df = ciencias_df[ciencias_df[\"nbc\"]== \"Química y afines\"]\n",
    "quimica_df = quimica_df.drop([\"departamento institucion\", \"municipio institucion\", \"programa\", \"cantidad creditos\", \"periodicidad\", \"cantidad periodos\", \"area conocimiento\", \"metodologia\" ], axis=1)\n",
    "quimica_df.shape[0]"
   ]
  }
 ],
 "metadata": {
  "kernelspec": {
   "display_name": "Python 3.9.12 ('ciencias_basicas')",
   "language": "python",
   "name": "python3"
  },
  "language_info": {
   "codemirror_mode": {
    "name": "ipython",
    "version": 3
   },
   "file_extension": ".py",
   "mimetype": "text/x-python",
   "name": "python",
   "nbconvert_exporter": "python",
   "pygments_lexer": "ipython3",
   "version": "3.9.12"
  },
  "orig_nbformat": 4,
  "vscode": {
   "interpreter": {
    "hash": "8e0dd7867892587302b5c22270e7362bd90789e78120613c2bd628d85b2dcd4a"
   }
  }
 },
 "nbformat": 4,
 "nbformat_minor": 2
}
