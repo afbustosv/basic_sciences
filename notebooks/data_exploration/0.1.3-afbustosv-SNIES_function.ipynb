{
 "cells": [
  {
   "cell_type": "code",
   "execution_count": 73,
   "metadata": {},
   "outputs": [
    {
     "name": "stdout",
     "output_type": "stream",
     "text": [
      "The autoreload extension is already loaded. To reload it, use:\n",
      "  %reload_ext autoreload\n"
     ]
    }
   ],
   "source": [
    "%load_ext autoreload\n",
    "%autoreload 2"
   ]
  },
  {
   "cell_type": "code",
   "execution_count": 79,
   "metadata": {},
   "outputs": [],
   "source": [
    "import ciencias_basicas.utils.paths as path\n",
    "import ciencias_basicas.data.proccesing as proccesing\n",
    "import pandas as pd\n",
    "import matplotlib.pyplot as plt\n",
    "import seaborn as sns\n",
    "import numpy as np\n",
    "import warnings\n",
    "warnings.simplefilter(\"ignore\")"
   ]
  },
  {
   "cell_type": "markdown",
   "metadata": {},
   "source": [
    "# Ciencias Basicas"
   ]
  },
  {
   "cell_type": "code",
   "execution_count": 80,
   "metadata": {},
   "outputs": [],
   "source": [
    "fisica_path = path.data_raw_dir(\"programas_fisica.xlsx\")\n",
    "quimica_path = path.data_raw_dir(\"programas_quimica.xlsx\")\n",
    "biologia_path = path.data_raw_dir(\"programas_biologia.xlsx\")\n",
    "matematicas_path = path.data_raw_dir(\"programas_matematicas.xlsx\")\n",
    "excel_path = path.data_processed_dir(\"Ciencias Basicas.xlsx\")\n",
    "dfs = []\n",
    "list_names = [\"Física\", \"Química\", \"Biología\", \"Matematicas\", \"Inactivas\" ]"
   ]
  },
  {
   "cell_type": "code",
   "execution_count": 81,
   "metadata": {},
   "outputs": [],
   "source": [
    "fisica_df = pd.read_excel(fisica_path)\n",
    "fisica_df = proccesing.clean_SNIES(fisica_df, mode = 2)\n",
    "inactive_df = fisica_df[fisica_df.ESTADO == \"Inactivo\"]\n",
    "fisica_df = fisica_df[fisica_df.ESTADO == \"Activo\"]\n",
    "dfs.append(fisica_df)"
   ]
  },
  {
   "cell_type": "code",
   "execution_count": 82,
   "metadata": {},
   "outputs": [],
   "source": [
    "quimica_df = pd.read_excel(quimica_path)\n",
    "quimica_df = proccesing.clean_SNIES(quimica_df, inactive_df, mode = 2)\n",
    "inactive_df = inactive_df.append(quimica_df[quimica_df.ESTADO == \"Inactivo\"])\n",
    "quimica_df = quimica_df[quimica_df.ESTADO == \"Activo\"]\n",
    "dfs.append(quimica_df)"
   ]
  },
  {
   "cell_type": "code",
   "execution_count": 83,
   "metadata": {},
   "outputs": [],
   "source": [
    "biologia_df = pd.read_excel(biologia_path)\n",
    "biologia_df = proccesing.clean_SNIES(biologia_df, mode = 2)\n",
    "inactive_df = inactive_df.append(biologia_df[biologia_df.ESTADO == \"Inactivo\"])\n",
    "biologia_df = biologia_df[biologia_df.ESTADO == \"Activo\"]\n",
    "dfs.append(biologia_df)"
   ]
  },
  {
   "cell_type": "code",
   "execution_count": 84,
   "metadata": {},
   "outputs": [],
   "source": [
    "matematicas_df = pd.read_excel(matematicas_path)\n",
    "matematicas_df = proccesing.clean_SNIES(matematicas_df, mode = 2)\n",
    "inactive_df = inactive_df.append(matematicas_df[matematicas_df.ESTADO == \"Inactivo\"])\n",
    "matematicas_df = matematicas_df[matematicas_df.ESTADO == \"Activo\"]\n",
    "dfs.append(matematicas_df)\n",
    "dfs.append(inactive_df)"
   ]
  },
  {
   "cell_type": "code",
   "execution_count": 86,
   "metadata": {},
   "outputs": [],
   "source": [
    "proccesing.save_excel(dfs, list_names, excel_path)"
   ]
  },
  {
   "cell_type": "markdown",
   "metadata": {},
   "source": [
    "# Otras carreras"
   ]
  },
  {
   "cell_type": "code",
   "execution_count": 87,
   "metadata": {},
   "outputs": [],
   "source": [
    "administracion_path = path.data_raw_dir(\"administracion.xlsx\")\n",
    "contaduria_path = path.data_raw_dir(\"Contaduria.xlsx\")\n",
    "economia_path = path.data_raw_dir(\"Economia.xlsx\")\n",
    "psicologia_path = path.data_raw_dir(\"psicologia.xlsx\")\n",
    "sistemas_path = path.data_raw_dir(\"sistema.xlsx\")\n",
    "excel_path = path.data_processed_dir(\"otras_carreras.xlsx\")\n",
    "dfs = []\n",
    "list_names = [\"Administración\", \"Contaduria\", \"Economia\", \"Psicologia\", \"Sistemas\" ]"
   ]
  },
  {
   "cell_type": "code",
   "execution_count": 88,
   "metadata": {},
   "outputs": [],
   "source": [
    "administracion_df = pd.read_excel(administracion_path, engine=\"openpyxl\")\n",
    "administracion_df = proccesing.clean_SNIES(administracion_df, mode= 2)\n",
    "administracion_df.PROGRAMA = administracion_df[\"PROGRAMA\"].apply(lambda x: \"ADMINISTRACIÓN DE EMPRESAS\" if \"EMPRESAS\" in x else x )\n",
    "administracion_df = administracion_df[administracion_df.PROGRAMA.apply(lambda x: 'ADMINISTRACI' in x)]\n",
    "dfs.append(administracion_df)"
   ]
  },
  {
   "cell_type": "code",
   "execution_count": 89,
   "metadata": {},
   "outputs": [],
   "source": [
    "contaduria_df = pd.read_excel(contaduria_path, engine=\"openpyxl\")\n",
    "contaduria_df = proccesing.clean_SNIES(contaduria_df, mode= 2)\n",
    "contaduria_df.PROGRAMA = contaduria_df[\"PROGRAMA\"].apply(lambda x: \"CONTADURIA PÚBLICA\" if \"BLICA\" in x else x )\n",
    "dfs.append(contaduria_df)"
   ]
  },
  {
   "cell_type": "code",
   "execution_count": 90,
   "metadata": {},
   "outputs": [],
   "source": [
    "economia_df = pd.read_excel(economia_path, engine=\"openpyxl\")\n",
    "economia_df = proccesing.clean_SNIES(economia_df, mode= 2)\n",
    "economia_df = economia_df[(economia_df.PROGRAMA != 'GESTIÓN TERRITORIAL Y ECONOMÍA SOCIAL Y SOLIDARIA') & (economia_df.PROGRAMA != 'RELACIONES ECONOMICAS INTERNACIONALES') & (economia_df.PROGRAMA != 'GEOGRAFIA DEL DESARROLLO REGIONAL Y AMBIENTAL')]\n",
    "economia_df.PROGRAMA = economia_df[\"PROGRAMA\"].apply(lambda x: \"ECONOMÍA\" if \"ECO\" in x else x )\n",
    "dfs.append(economia_df)"
   ]
  },
  {
   "cell_type": "code",
   "execution_count": 91,
   "metadata": {},
   "outputs": [],
   "source": [
    "psicologia_df = pd.read_excel(psicologia_path, engine=\"openpyxl\")\n",
    "psicologia_df = proccesing.clean_SNIES(psicologia_df, mode= 2)\n",
    "psicologia_df = psicologia_df[psicologia_df.PROGRAMA != 'PROFESIONAL EN INVESTIGACIÓN CRIMINAL']\n",
    "psicologia_df.PROGRAMA = psicologia_df[\"PROGRAMA\"].apply(lambda x: \"PSICOLOGÍA\" if \"PSI\" in x else x )\n",
    "dfs.append(psicologia_df)"
   ]
  },
  {
   "cell_type": "code",
   "execution_count": 92,
   "metadata": {},
   "outputs": [],
   "source": [
    "sistemas_df = pd.read_excel(sistemas_path, engine=\"openpyxl\")\n",
    "sistemas_df = proccesing.clean_SNIES(sistemas_df, mode= 2)\n",
    "sistemas_df = sistemas_df[(sistemas_df.PROGRAMA != 'GESTIÓN  DE SISTEMAS DE INFORMACIÓN') & (sistemas_df.PROGRAMA != 'PROFESIONAL EN SISTEMAS DE INFORMACION ORGANIZACIONAL')]\n",
    "sistemas_df.PROGRAMA = sistemas_df[\"PROGRAMA\"].apply(lambda x: \"INGENIERÍA DE SISTEMAS\" if \"ING\" in x else x )\n",
    "dfs.append(sistemas_df)"
   ]
  },
  {
   "cell_type": "code",
   "execution_count": 93,
   "metadata": {},
   "outputs": [],
   "source": [
    "proccesing.save_excel(dfs, list_names, excel_path)"
   ]
  }
 ],
 "metadata": {
  "kernelspec": {
   "display_name": "Python 3.9.12 ('ciencias_basicas')",
   "language": "python",
   "name": "python3"
  },
  "language_info": {
   "codemirror_mode": {
    "name": "ipython",
    "version": 3
   },
   "file_extension": ".py",
   "mimetype": "text/x-python",
   "name": "python",
   "nbconvert_exporter": "python",
   "pygments_lexer": "ipython3",
   "version": "3.9.12"
  },
  "orig_nbformat": 4,
  "vscode": {
   "interpreter": {
    "hash": "8e0dd7867892587302b5c22270e7362bd90789e78120613c2bd628d85b2dcd4a"
   }
  }
 },
 "nbformat": 4,
 "nbformat_minor": 2
}
