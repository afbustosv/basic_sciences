{
 "cells": [
  {
   "cell_type": "code",
   "execution_count": 1,
   "metadata": {},
   "outputs": [],
   "source": [
    "%load_ext autoreload\n",
    "%autoreload 2"
   ]
  },
  {
   "cell_type": "code",
   "execution_count": 2,
   "metadata": {},
   "outputs": [],
   "source": [
    "import ciencias_basicas.utils.paths as path\n",
    "import ciencias_basicas.data.proccesing as proccesing\n",
    "import pandas as pd\n",
    "import matplotlib.pyplot as plt\n",
    "import seaborn as sns\n",
    "import numpy as np\n",
    "import warnings\n",
    "warnings.simplefilter(\"ignore\")"
   ]
  },
  {
   "cell_type": "code",
   "execution_count": 3,
   "metadata": {},
   "outputs": [],
   "source": [
    "fisica_path = path.data_raw_dir(\"programas_fisica.xlsx\")\n",
    "quimica_path = path.data_raw_dir(\"programas_quimica.xlsx\")\n",
    "biologia_path = path.data_raw_dir(\"programas_biologia.xlsx\")\n",
    "matematicas_path = path.data_raw_dir(\"programas_matematicas.xlsx\")\n",
    "excel_path = path.data_processed_dir(\"Ciencias Basicas.xlsx\")"
   ]
  },
  {
   "cell_type": "code",
   "execution_count": 4,
   "metadata": {},
   "outputs": [
    {
     "name": "stdout",
     "output_type": "stream",
     "text": [
      "here\n"
     ]
    }
   ],
   "source": [
    "fisica_df = pd.read_excel(fisica_path, engine=\"openpyxl\")\n",
    "fisica_df = proccesing.clean_SNIES(fisica_df)\n",
    "proccesing.save_excel(fisica_df, \"Física\", excel_path)"
   ]
  },
  {
   "cell_type": "code",
   "execution_count": 5,
   "metadata": {},
   "outputs": [],
   "source": [
    "quimica_df = pd.read_excel(quimica_path)\n",
    "quimica_df = proccesing.clean_SNIES(quimica_df)\n",
    "proccesing.save_excel(quimica_df, \"Química\", excel_path)"
   ]
  },
  {
   "cell_type": "code",
   "execution_count": 6,
   "metadata": {},
   "outputs": [],
   "source": [
    "biologia_df = pd.read_excel(biologia_path)\n",
    "biologia_df = proccesing.clean_SNIES(biologia_df)\n",
    "proccesing.save_excel(biologia_df, \"Biología\", excel_path)"
   ]
  },
  {
   "cell_type": "code",
   "execution_count": 7,
   "metadata": {},
   "outputs": [],
   "source": [
    "matematicas_df = pd.read_excel(matematicas_path)\n",
    "matematicas_df = proccesing.clean_SNIES(matematicas_df)\n",
    "proccesing.save_excel(matematicas_df, \"Matematicas\", excel_path)"
   ]
  },
  {
   "cell_type": "code",
   "execution_count": 10,
   "metadata": {},
   "outputs": [
    {
     "name": "stdout",
     "output_type": "stream",
     "text": [
      "si\n"
     ]
    }
   ],
   "source": [
    "proccesing.resize_column_width(excel_path)"
   ]
  }
 ],
 "metadata": {
  "kernelspec": {
   "display_name": "Python 3.9.12 ('ciencias_basicas')",
   "language": "python",
   "name": "python3"
  },
  "language_info": {
   "codemirror_mode": {
    "name": "ipython",
    "version": 3
   },
   "file_extension": ".py",
   "mimetype": "text/x-python",
   "name": "python",
   "nbconvert_exporter": "python",
   "pygments_lexer": "ipython3",
   "version": "3.9.12"
  },
  "orig_nbformat": 4,
  "vscode": {
   "interpreter": {
    "hash": "8e0dd7867892587302b5c22270e7362bd90789e78120613c2bd628d85b2dcd4a"
   }
  }
 },
 "nbformat": 4,
 "nbformat_minor": 2
}
