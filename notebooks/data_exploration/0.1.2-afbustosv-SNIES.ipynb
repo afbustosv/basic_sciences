{
 "cells": [
  {
   "cell_type": "code",
   "execution_count": 1,
   "metadata": {},
   "outputs": [],
   "source": [
    "%load_ext autoreload\n",
    "%autoreload 2"
   ]
  },
  {
   "cell_type": "code",
   "execution_count": 2,
   "metadata": {},
   "outputs": [],
   "source": [
    "import ciencias_basicas.utils.paths as path\n",
    "import pandas as pd\n",
    "import matplotlib.pyplot as plt\n",
    "import seaborn as sns\n",
    "import numpy as np"
   ]
  },
  {
   "cell_type": "code",
   "execution_count": 3,
   "metadata": {},
   "outputs": [],
   "source": [
    "fisica_path = path.data_raw_dir(\"programas_fisica.xlsx\")\n",
    "quimica_path = path.data_raw_dir(\"programas_quimica.xlsx\")\n",
    "biologia_path = path.data_raw_dir(\"programas_biologia.xlsx\")\n",
    "matematicas_path = path.data_raw_dir(\"programas_matematicas.xlsx\")"
   ]
  },
  {
   "cell_type": "markdown",
   "metadata": {},
   "source": [
    "# Fisica"
   ]
  },
  {
   "cell_type": "code",
   "execution_count": 4,
   "metadata": {},
   "outputs": [
    {
     "name": "stderr",
     "output_type": "stream",
     "text": [
      "c:\\ProgramData\\Anaconda3\\envs\\ciencias_basicas\\lib\\site-packages\\openpyxl\\styles\\stylesheet.py:226: UserWarning: Workbook contains no default style, apply openpyxl's default\n",
      "  warn(\"Workbook contains no default style, apply openpyxl's default\")\n"
     ]
    },
    {
     "data": {
      "text/plain": [
       "Index(['CÓDIGO_INSTITUCIÓN_PADRE', 'CÓDIGO_INSTITUCIÓN', 'NOMBRE_INSTITUCIÓN',\n",
       "       'ESTADO_INSTITUCIÓN', 'CARÁCTER_ACADÉMICO', 'SECTOR', 'REGISTRO_UNICO',\n",
       "       'CÓDIGO_SNIES_DEL_PROGRAMA', 'CÓDIGO_ANTERIOR_ICFES',\n",
       "       'NOMBRE_DEL_PROGRAMA', 'TITULO_OTORGADO', 'ESTADO_PROGRAMA',\n",
       "       'JUSTIFICACION', 'JUSTIFICACION_DETALLADA',\n",
       "       'RECONOCIMIENTO_DEL_MINISTERIO', 'RESOLUCIÓN_DE_APROBACIÓN',\n",
       "       'FECHA_DE_RESOLUCIÓN', 'FECHA_EJECUTORIA', 'VIGENCIA_AÑOS',\n",
       "       'FECHA_DE_REGISTRO_EN_SNIES', 'CINE_F_2013_AC_CAMPO_AMPLIO',\n",
       "       'CINE_F_2013_AC_CAMPO_ESPECÍFIC', 'CINE_F_2013_AC_CAMPO_DETALLADO',\n",
       "       'ÁREA_DE_CONOCIMIENTO', 'NÚCLEO_BÁSICO_DEL_CONOCIMIENTO',\n",
       "       'NIVEL_ACADÉMICO', 'NIVEL_DE_FORMACIÓN', 'MODALIDAD', 'NÚMERO_CRÉDITOS',\n",
       "       'NÚMERO_PERIODOS_DE_DURACIÓN', 'PERIODICIDAD',\n",
       "       'SE_OFRECE_POR_CICLOS_PROPEDÉUT', 'PERIODICIDAD_ADMISIONES',\n",
       "       'PROGRAMA_EN_CONVENIO', 'DEPARTAMENTO_OFERTA_PROGRAMA',\n",
       "       'MUNICIPIO_OFERTA_PROGRAMA', 'COSTO_MATRÍCULA_ESTUD_NUEVOS'],\n",
       "      dtype='object')"
      ]
     },
     "execution_count": 4,
     "metadata": {},
     "output_type": "execute_result"
    }
   ],
   "source": [
    "fisica_df = pd.read_excel(fisica_path)\n",
    "fisica_df.columns"
   ]
  },
  {
   "cell_type": "code",
   "execution_count": 6,
   "metadata": {},
   "outputs": [],
   "source": [
    "fisica_df = fisica_df[[\"NOMBRE_INSTITUCIÓN\", \"CARÁCTER_ACADÉMICO\", \"SECTOR\", \"CÓDIGO_SNIES_DEL_PROGRAMA\", \"NOMBRE_DEL_PROGRAMA\", \"TITULO_OTORGADO\", \"ESTADO_PROGRAMA\", \"RECONOCIMIENTO_DEL_MINISTERIO\", \"RESOLUCIÓN_DE_APROBACIÓN\", \"FECHA_DE_RESOLUCIÓN\", \"VIGENCIA_AÑOS\", \"NIVEL_DE_FORMACIÓN\", \"MODALIDAD\",  \"DEPARTAMENTO_OFERTA_PROGRAMA\", \"MUNICIPIO_OFERTA_PROGRAMA\", \"COSTO_MATRÍCULA_ESTUD_NUEVOS\"]]\n",
    "fisica_df.columns = [\"INSTITUCION\", \"CARACTER\", \"SECTOR\", \"SNIES\", \"PROGRAMA\", \"TITULO\", \"ESTADO\", \"ACREDITACION\", \"RESOLUCION\", \"FECHA DE RESOLUCION\", \"VIGENCIA(AÑOS)\", \"NIVEL\", \"MODALIDAD\", \"DEPARTAMENTO\", \"MUNICIPIO\", \"COSTO\" ]"
   ]
  },
  {
   "cell_type": "code",
   "execution_count": 7,
   "metadata": {},
   "outputs": [],
   "source": [
    "fisica_df[[\"VIGENCIA(AÑOS)\", \"RESOLUCION\"]] = fisica_df[[\"VIGENCIA(AÑOS)\", \"RESOLUCION\"]] .fillna(0)\n",
    "fisica_df = fisica_df.astype({\"SNIES\":\"int\", \"VIGENCIA(AÑOS)\":\"int\", \"RESOLUCION\":\"int\"})"
   ]
  },
  {
   "cell_type": "code",
   "execution_count": 8,
   "metadata": {},
   "outputs": [],
   "source": [
    "\n",
    "fisica_df.sort_values(by=\"ACREDITACION\", inplace=True)\n",
    "fisica_df.to_excel(path.data_processed_dir(\"ciencias_basicas.xlsx\"), sheet_name=\"Física\", index=False)"
   ]
  },
  {
   "cell_type": "markdown",
   "metadata": {},
   "source": [
    "# Quimica"
   ]
  },
  {
   "cell_type": "code",
   "execution_count": 9,
   "metadata": {},
   "outputs": [
    {
     "name": "stderr",
     "output_type": "stream",
     "text": [
      "c:\\ProgramData\\Anaconda3\\envs\\ciencias_basicas\\lib\\site-packages\\openpyxl\\styles\\stylesheet.py:226: UserWarning: Workbook contains no default style, apply openpyxl's default\n",
      "  warn(\"Workbook contains no default style, apply openpyxl's default\")\n"
     ]
    },
    {
     "data": {
      "text/plain": [
       "Index(['CÓDIGO_INSTITUCIÓN_PADRE', 'CÓDIGO_INSTITUCIÓN', 'NOMBRE_INSTITUCIÓN',\n",
       "       'ESTADO_INSTITUCIÓN', 'CARÁCTER_ACADÉMICO', 'SECTOR', 'REGISTRO_UNICO',\n",
       "       'CÓDIGO_SNIES_DEL_PROGRAMA', 'CÓDIGO_ANTERIOR_ICFES',\n",
       "       'NOMBRE_DEL_PROGRAMA', 'TITULO_OTORGADO', 'ESTADO_PROGRAMA',\n",
       "       'JUSTIFICACION', 'JUSTIFICACION_DETALLADA',\n",
       "       'RECONOCIMIENTO_DEL_MINISTERIO', 'RESOLUCIÓN_DE_APROBACIÓN',\n",
       "       'FECHA_DE_RESOLUCIÓN', 'FECHA_EJECUTORIA', 'VIGENCIA_AÑOS',\n",
       "       'FECHA_DE_REGISTRO_EN_SNIES', 'CINE_F_2013_AC_CAMPO_AMPLIO',\n",
       "       'CINE_F_2013_AC_CAMPO_ESPECÍFIC', 'CINE_F_2013_AC_CAMPO_DETALLADO',\n",
       "       'ÁREA_DE_CONOCIMIENTO', 'NÚCLEO_BÁSICO_DEL_CONOCIMIENTO',\n",
       "       'NIVEL_ACADÉMICO', 'NIVEL_DE_FORMACIÓN', 'MODALIDAD', 'NÚMERO_CRÉDITOS',\n",
       "       'NÚMERO_PERIODOS_DE_DURACIÓN', 'PERIODICIDAD',\n",
       "       'SE_OFRECE_POR_CICLOS_PROPEDÉUT', 'PERIODICIDAD_ADMISIONES',\n",
       "       'PROGRAMA_EN_CONVENIO', 'DEPARTAMENTO_OFERTA_PROGRAMA',\n",
       "       'MUNICIPIO_OFERTA_PROGRAMA', 'COSTO_MATRÍCULA_ESTUD_NUEVOS'],\n",
       "      dtype='object')"
      ]
     },
     "execution_count": 9,
     "metadata": {},
     "output_type": "execute_result"
    }
   ],
   "source": [
    "quimica_df = pd.read_excel(quimica_path)\n",
    "quimica_df.columns"
   ]
  },
  {
   "cell_type": "code",
   "execution_count": 10,
   "metadata": {},
   "outputs": [],
   "source": [
    "quimica_df = quimica_df[[\"NOMBRE_INSTITUCIÓN\", \"CARÁCTER_ACADÉMICO\", \"SECTOR\", \"CÓDIGO_SNIES_DEL_PROGRAMA\", \"NOMBRE_DEL_PROGRAMA\", \"TITULO_OTORGADO\", \"ESTADO_PROGRAMA\", \"RECONOCIMIENTO_DEL_MINISTERIO\", \"RESOLUCIÓN_DE_APROBACIÓN\", \"FECHA_DE_RESOLUCIÓN\", \"VIGENCIA_AÑOS\", \"NIVEL_DE_FORMACIÓN\", \"MODALIDAD\",  \"DEPARTAMENTO_OFERTA_PROGRAMA\", \"MUNICIPIO_OFERTA_PROGRAMA\", \"COSTO_MATRÍCULA_ESTUD_NUEVOS\"]]\n",
    "quimica_df.columns = [\"INSTITUCION\", \"CARACTER\", \"SECTOR\", \"SNIES\", \"PROGRAMA\", \"TITULO\", \"ESTADO\", \"ACREDITACION\", \"RESOLUCION\", \"FECHA DE RESOLUCION\", \"VIGENCIA(AÑOS)\", \"NIVEL\", \"MODALIDAD\", \"DEPARTAMENTO\", \"MUNICIPIO\", \"COSTO\" ]"
   ]
  },
  {
   "cell_type": "code",
   "execution_count": 11,
   "metadata": {},
   "outputs": [],
   "source": [
    "quimica_df[[\"VIGENCIA(AÑOS)\", \"RESOLUCION\"]] = quimica_df[[\"VIGENCIA(AÑOS)\", \"RESOLUCION\"]].fillna(0)\n",
    "quimica_df = quimica_df.astype({\"SNIES\":\"int\", \"RESOLUCION\":\"int\"})"
   ]
  },
  {
   "cell_type": "code",
   "execution_count": 12,
   "metadata": {},
   "outputs": [],
   "source": [
    "writer = pd.ExcelWriter(path.data_processed_dir(\"ciencias_basicas.xlsx\"), mode=\"a\")\n",
    "quimica_df.sort_values(by=\"ACREDITACION\", inplace=True)\n",
    "quimica_df.to_excel(writer, sheet_name=\"quimica\", index=False)\n",
    "writer.save()"
   ]
  },
  {
   "cell_type": "markdown",
   "metadata": {},
   "source": [
    "# Biologia"
   ]
  },
  {
   "cell_type": "code",
   "execution_count": 13,
   "metadata": {},
   "outputs": [
    {
     "name": "stderr",
     "output_type": "stream",
     "text": [
      "c:\\ProgramData\\Anaconda3\\envs\\ciencias_basicas\\lib\\site-packages\\openpyxl\\styles\\stylesheet.py:226: UserWarning: Workbook contains no default style, apply openpyxl's default\n",
      "  warn(\"Workbook contains no default style, apply openpyxl's default\")\n"
     ]
    },
    {
     "data": {
      "text/plain": [
       "Index(['CÓDIGO_INSTITUCIÓN_PADRE', 'CÓDIGO_INSTITUCIÓN', 'NOMBRE_INSTITUCIÓN',\n",
       "       'ESTADO_INSTITUCIÓN', 'CARÁCTER_ACADÉMICO', 'SECTOR', 'REGISTRO_UNICO',\n",
       "       'CÓDIGO_SNIES_DEL_PROGRAMA', 'CÓDIGO_ANTERIOR_ICFES',\n",
       "       'NOMBRE_DEL_PROGRAMA', 'TITULO_OTORGADO', 'ESTADO_PROGRAMA',\n",
       "       'JUSTIFICACION', 'JUSTIFICACION_DETALLADA',\n",
       "       'RECONOCIMIENTO_DEL_MINISTERIO', 'RESOLUCIÓN_DE_APROBACIÓN',\n",
       "       'FECHA_DE_RESOLUCIÓN', 'FECHA_EJECUTORIA', 'VIGENCIA_AÑOS',\n",
       "       'FECHA_DE_REGISTRO_EN_SNIES', 'CINE_F_2013_AC_CAMPO_AMPLIO',\n",
       "       'CINE_F_2013_AC_CAMPO_ESPECÍFIC', 'CINE_F_2013_AC_CAMPO_DETALLADO',\n",
       "       'ÁREA_DE_CONOCIMIENTO', 'NÚCLEO_BÁSICO_DEL_CONOCIMIENTO',\n",
       "       'NIVEL_ACADÉMICO', 'NIVEL_DE_FORMACIÓN', 'MODALIDAD', 'NÚMERO_CRÉDITOS',\n",
       "       'NÚMERO_PERIODOS_DE_DURACIÓN', 'PERIODICIDAD',\n",
       "       'SE_OFRECE_POR_CICLOS_PROPEDÉUT', 'PERIODICIDAD_ADMISIONES',\n",
       "       'PROGRAMA_EN_CONVENIO', 'DEPARTAMENTO_OFERTA_PROGRAMA',\n",
       "       'MUNICIPIO_OFERTA_PROGRAMA', 'COSTO_MATRÍCULA_ESTUD_NUEVOS'],\n",
       "      dtype='object')"
      ]
     },
     "execution_count": 13,
     "metadata": {},
     "output_type": "execute_result"
    }
   ],
   "source": [
    "biologia_df = pd.read_excel(biologia_path)\n",
    "biologia_df.columns"
   ]
  },
  {
   "cell_type": "code",
   "execution_count": 14,
   "metadata": {},
   "outputs": [],
   "source": [
    "biologia_df = biologia_df[[\"NOMBRE_INSTITUCIÓN\", \"CARÁCTER_ACADÉMICO\", \"SECTOR\", \"CÓDIGO_SNIES_DEL_PROGRAMA\", \"NOMBRE_DEL_PROGRAMA\", \"TITULO_OTORGADO\", \"ESTADO_PROGRAMA\", \"RECONOCIMIENTO_DEL_MINISTERIO\", \"RESOLUCIÓN_DE_APROBACIÓN\", \"FECHA_DE_RESOLUCIÓN\", \"VIGENCIA_AÑOS\", \"NIVEL_DE_FORMACIÓN\", \"MODALIDAD\",  \"DEPARTAMENTO_OFERTA_PROGRAMA\", \"MUNICIPIO_OFERTA_PROGRAMA\", \"COSTO_MATRÍCULA_ESTUD_NUEVOS\"]]\n",
    "biologia_df.columns = [\"INSTITUCION\", \"CARACTER\", \"SECTOR\", \"SNIES\", \"PROGRAMA\", \"TITULO\", \"ESTADO\", \"ACREDITACION\", \"RESOLUCION\", \"FECHA DE RESOLUCION\", \"VIGENCIA(AÑOS)\", \"NIVEL\", \"MODALIDAD\", \"DEPARTAMENTO\", \"MUNICIPIO\", \"COSTO\" ]"
   ]
  },
  {
   "cell_type": "code",
   "execution_count": 15,
   "metadata": {},
   "outputs": [],
   "source": [
    "biologia_df[[\"VIGENCIA(AÑOS)\", \"RESOLUCION\"]] = biologia_df[[\"VIGENCIA(AÑOS)\", \"RESOLUCION\"]].fillna(0)\n",
    "biologia_df = biologia_df.astype({\"SNIES\":\"int\", \"RESOLUCION\":\"int\"})"
   ]
  },
  {
   "cell_type": "code",
   "execution_count": 16,
   "metadata": {},
   "outputs": [],
   "source": [
    "biologia_df.sort_values(by=\"ACREDITACION\", inplace=True)\n",
    "biologia_df.to_excel(writer, sheet_name=\"biologia\", index=False)\n",
    "writer.save()"
   ]
  },
  {
   "cell_type": "markdown",
   "metadata": {},
   "source": [
    "# Matematicas"
   ]
  },
  {
   "cell_type": "code",
   "execution_count": 17,
   "metadata": {},
   "outputs": [
    {
     "name": "stderr",
     "output_type": "stream",
     "text": [
      "c:\\ProgramData\\Anaconda3\\envs\\ciencias_basicas\\lib\\site-packages\\openpyxl\\styles\\stylesheet.py:226: UserWarning: Workbook contains no default style, apply openpyxl's default\n",
      "  warn(\"Workbook contains no default style, apply openpyxl's default\")\n"
     ]
    },
    {
     "data": {
      "text/plain": [
       "Index(['CÓDIGO_INSTITUCIÓN_PADRE', 'CÓDIGO_INSTITUCIÓN', 'NOMBRE_INSTITUCIÓN',\n",
       "       'ESTADO_INSTITUCIÓN', 'CARÁCTER_ACADÉMICO', 'SECTOR', 'REGISTRO_UNICO',\n",
       "       'CÓDIGO_SNIES_DEL_PROGRAMA', 'CÓDIGO_ANTERIOR_ICFES',\n",
       "       'NOMBRE_DEL_PROGRAMA', 'TITULO_OTORGADO', 'ESTADO_PROGRAMA',\n",
       "       'JUSTIFICACION', 'JUSTIFICACION_DETALLADA',\n",
       "       'RECONOCIMIENTO_DEL_MINISTERIO', 'RESOLUCIÓN_DE_APROBACIÓN',\n",
       "       'FECHA_DE_RESOLUCIÓN', 'FECHA_EJECUTORIA', 'VIGENCIA_AÑOS',\n",
       "       'FECHA_DE_REGISTRO_EN_SNIES', 'CINE_F_2013_AC_CAMPO_AMPLIO',\n",
       "       'CINE_F_2013_AC_CAMPO_ESPECÍFIC', 'CINE_F_2013_AC_CAMPO_DETALLADO',\n",
       "       'ÁREA_DE_CONOCIMIENTO', 'NÚCLEO_BÁSICO_DEL_CONOCIMIENTO',\n",
       "       'NIVEL_ACADÉMICO', 'NIVEL_DE_FORMACIÓN', 'MODALIDAD', 'NÚMERO_CRÉDITOS',\n",
       "       'NÚMERO_PERIODOS_DE_DURACIÓN', 'PERIODICIDAD',\n",
       "       'SE_OFRECE_POR_CICLOS_PROPEDÉUT', 'PERIODICIDAD_ADMISIONES',\n",
       "       'PROGRAMA_EN_CONVENIO', 'DEPARTAMENTO_OFERTA_PROGRAMA',\n",
       "       'MUNICIPIO_OFERTA_PROGRAMA', 'COSTO_MATRÍCULA_ESTUD_NUEVOS'],\n",
       "      dtype='object')"
      ]
     },
     "execution_count": 17,
     "metadata": {},
     "output_type": "execute_result"
    }
   ],
   "source": [
    "matematicas_df = pd.read_excel(matematicas_path)\n",
    "matematicas_df.columns"
   ]
  },
  {
   "cell_type": "code",
   "execution_count": 19,
   "metadata": {},
   "outputs": [],
   "source": [
    "matematicas_df = matematicas_df[[\"NOMBRE_INSTITUCIÓN\", \"CARÁCTER_ACADÉMICO\", \"SECTOR\", \"CÓDIGO_SNIES_DEL_PROGRAMA\", \"NOMBRE_DEL_PROGRAMA\", \"TITULO_OTORGADO\", \"ESTADO_PROGRAMA\", \"RECONOCIMIENTO_DEL_MINISTERIO\", \"RESOLUCIÓN_DE_APROBACIÓN\", \"FECHA_DE_RESOLUCIÓN\", \"VIGENCIA_AÑOS\", \"NIVEL_DE_FORMACIÓN\", \"MODALIDAD\",  \"DEPARTAMENTO_OFERTA_PROGRAMA\", \"MUNICIPIO_OFERTA_PROGRAMA\", \"COSTO_MATRÍCULA_ESTUD_NUEVOS\"]]\n",
    "matematicas_df.columns = [\"INSTITUCION\", \"CARACTER\", \"SECTOR\", \"SNIES\", \"PROGRAMA\", \"TITULO\", \"ESTADO\", \"ACREDITACION\", \"RESOLUCION\", \"FECHA DE RESOLUCION\", \"VIGENCIA(AÑOS)\", \"NIVEL\", \"MODALIDAD\", \"DEPARTAMENTO\", \"MUNICIPIO\", \"COSTO\" ]"
   ]
  },
  {
   "cell_type": "code",
   "execution_count": 20,
   "metadata": {},
   "outputs": [
    {
     "name": "stderr",
     "output_type": "stream",
     "text": [
      "C:\\Users\\Deathtrol\\AppData\\Local\\Temp\\ipykernel_8372\\2514574404.py:1: SettingWithCopyWarning: \n",
      "A value is trying to be set on a copy of a slice from a DataFrame.\n",
      "Try using .loc[row_indexer,col_indexer] = value instead\n",
      "\n",
      "See the caveats in the documentation: https://pandas.pydata.org/pandas-docs/stable/user_guide/indexing.html#returning-a-view-versus-a-copy\n",
      "  matematicas_df[[\"VIGENCIA(AÑOS)\", \"RESOLUCION\"]] = matematicas_df[[\"VIGENCIA(AÑOS)\", \"RESOLUCION\"]].fillna(0)\n"
     ]
    }
   ],
   "source": [
    "matematicas_df[[\"VIGENCIA(AÑOS)\", \"RESOLUCION\"]] = matematicas_df[[\"VIGENCIA(AÑOS)\", \"RESOLUCION\"]].fillna(0)\n",
    "matematicas_df = matematicas_df.astype({\"SNIES\":\"int\", \"RESOLUCION\":\"int\"})"
   ]
  },
  {
   "cell_type": "code",
   "execution_count": 21,
   "metadata": {},
   "outputs": [],
   "source": [
    "matematicas_df.sort_values(by=\"ACREDITACION\", inplace=True)\n",
    "matematicas_df.to_excel(writer, sheet_name=\"matematicas\", index=False)\n",
    "writer.save()"
   ]
  },
  {
   "cell_type": "code",
   "execution_count": 26,
   "metadata": {},
   "outputs": [
    {
     "ename": "TypeError",
     "evalue": "expected string or bytes-like object",
     "output_type": "error",
     "traceback": [
      "\u001b[1;31m----------------------------------------------------------\u001b[0m",
      "\u001b[1;31mTypeError\u001b[0m                Traceback (most recent call last)",
      "\u001b[1;32mc:\\projects\\ciencias_basicas\\notebooks\\data_exploration\\0.1.2-afbustosv-SNIES.ipynb Celda 24\u001b[0m in \u001b[0;36m<cell line: 1>\u001b[1;34m()\u001b[0m\n\u001b[0;32m      <a href='vscode-notebook-cell:/c%3A/projects/ciencias_basicas/notebooks/data_exploration/0.1.2-afbustosv-SNIES.ipynb#X34sZmlsZQ%3D%3D?line=0'>1</a>\u001b[0m \u001b[39mfor\u001b[39;00m sheet \u001b[39min\u001b[39;00m writer\u001b[39m.\u001b[39msheets:\n\u001b[0;32m      <a href='vscode-notebook-cell:/c%3A/projects/ciencias_basicas/notebooks/data_exploration/0.1.2-afbustosv-SNIES.ipynb#X34sZmlsZQ%3D%3D?line=1'>2</a>\u001b[0m     \u001b[39mfor\u001b[39;00m column \u001b[39min\u001b[39;00m writer\u001b[39m.\u001b[39msheets[sheet]:\n\u001b[1;32m----> <a href='vscode-notebook-cell:/c%3A/projects/ciencias_basicas/notebooks/data_exploration/0.1.2-afbustosv-SNIES.ipynb#X34sZmlsZQ%3D%3D?line=2'>3</a>\u001b[0m         column_length \u001b[39m=\u001b[39m \u001b[39mmax\u001b[39m(writer\u001b[39m.\u001b[39;49msheets[sheet][column]\u001b[39m.\u001b[39mastype(\u001b[39mstr\u001b[39m)\u001b[39m.\u001b[39mmap(\u001b[39mlen\u001b[39m)\u001b[39m.\u001b[39mmax(), \u001b[39mlen\u001b[39m(column))\n\u001b[0;32m      <a href='vscode-notebook-cell:/c%3A/projects/ciencias_basicas/notebooks/data_exploration/0.1.2-afbustosv-SNIES.ipynb#X34sZmlsZQ%3D%3D?line=3'>4</a>\u001b[0m         col_idx \u001b[39m=\u001b[39m writer\u001b[39m.\u001b[39msheets[sheet]\u001b[39m.\u001b[39mcolumns\u001b[39m.\u001b[39mget_loc(column)\n\u001b[0;32m      <a href='vscode-notebook-cell:/c%3A/projects/ciencias_basicas/notebooks/data_exploration/0.1.2-afbustosv-SNIES.ipynb#X34sZmlsZQ%3D%3D?line=4'>5</a>\u001b[0m         writer\u001b[39m.\u001b[39msheets[sheet]\u001b[39m.\u001b[39mset_column(col_idx, col_idx, column_length)\n",
      "File \u001b[1;32mc:\\ProgramData\\Anaconda3\\envs\\ciencias_basicas\\lib\\site-packages\\openpyxl\\worksheet\\worksheet.py:290\u001b[0m, in \u001b[0;36mWorksheet.__getitem__\u001b[1;34m(self, key)\u001b[0m\n\u001b[0;32m    287\u001b[0m \u001b[39mif\u001b[39;00m \u001b[39misinstance\u001b[39m(key, \u001b[39mint\u001b[39m):\n\u001b[0;32m    288\u001b[0m     key \u001b[39m=\u001b[39m \u001b[39mstr\u001b[39m(key\n\u001b[0;32m    289\u001b[0m               )\n\u001b[1;32m--> 290\u001b[0m min_col, min_row, max_col, max_row \u001b[39m=\u001b[39m range_boundaries(key)\n\u001b[0;32m    292\u001b[0m \u001b[39mif\u001b[39;00m \u001b[39mnot\u001b[39;00m \u001b[39many\u001b[39m([min_col, min_row, max_col, max_row]):\n\u001b[0;32m    293\u001b[0m     \u001b[39mraise\u001b[39;00m \u001b[39mIndexError\u001b[39;00m(\u001b[39m\"\u001b[39m\u001b[39m{0}\u001b[39;00m\u001b[39m is not a valid coordinate or range\u001b[39m\u001b[39m\"\u001b[39m\u001b[39m.\u001b[39mformat(key))\n",
      "File \u001b[1;32mc:\\ProgramData\\Anaconda3\\envs\\ciencias_basicas\\lib\\site-packages\\openpyxl\\utils\\cell.py:133\u001b[0m, in \u001b[0;36mrange_boundaries\u001b[1;34m(range_string)\u001b[0m\n\u001b[0;32m    127\u001b[0m \u001b[39m\"\"\"\u001b[39;00m\n\u001b[0;32m    128\u001b[0m \u001b[39mConvert a range string into a tuple of boundaries:\u001b[39;00m\n\u001b[0;32m    129\u001b[0m \u001b[39m(min_col, min_row, max_col, max_row)\u001b[39;00m\n\u001b[0;32m    130\u001b[0m \u001b[39mCell coordinates will be converted into a range with the cell at both end\u001b[39;00m\n\u001b[0;32m    131\u001b[0m \u001b[39m\"\"\"\u001b[39;00m\n\u001b[0;32m    132\u001b[0m msg \u001b[39m=\u001b[39m \u001b[39m\"\u001b[39m\u001b[39m{0}\u001b[39;00m\u001b[39m is not a valid coordinate or range\u001b[39m\u001b[39m\"\u001b[39m\u001b[39m.\u001b[39mformat(range_string)\n\u001b[1;32m--> 133\u001b[0m m \u001b[39m=\u001b[39m ABSOLUTE_RE\u001b[39m.\u001b[39;49mmatch(range_string)\n\u001b[0;32m    134\u001b[0m \u001b[39mif\u001b[39;00m \u001b[39mnot\u001b[39;00m m:\n\u001b[0;32m    135\u001b[0m     \u001b[39mraise\u001b[39;00m \u001b[39mValueError\u001b[39;00m(msg)\n",
      "\u001b[1;31mTypeError\u001b[0m: expected string or bytes-like object"
     ]
    }
   ],
   "source": [
    "for sheet in writer.sheets:\n",
    "    for column in writer.sheets[sheet]:\n",
    "        column_length = max(writer.sheets[sheet][column].astype(str).map(len).max(), len(column))\n",
    "        col_idx = writer.sheets[sheet].columns.get_loc(column)\n",
    "        writer.sheets[sheet].set_column(col_idx, col_idx, column_length)"
   ]
  },
  {
   "cell_type": "code",
   "execution_count": null,
   "metadata": {},
   "outputs": [],
   "source": []
  }
 ],
 "metadata": {
  "kernelspec": {
   "display_name": "Python 3.9.12 ('ciencias_basicas')",
   "language": "python",
   "name": "python3"
  },
  "language_info": {
   "codemirror_mode": {
    "name": "ipython",
    "version": 3
   },
   "file_extension": ".py",
   "mimetype": "text/x-python",
   "name": "python",
   "nbconvert_exporter": "python",
   "pygments_lexer": "ipython3",
   "version": "3.9.12"
  },
  "orig_nbformat": 4,
  "vscode": {
   "interpreter": {
    "hash": "8e0dd7867892587302b5c22270e7362bd90789e78120613c2bd628d85b2dcd4a"
   }
  }
 },
 "nbformat": 4,
 "nbformat_minor": 2
}
